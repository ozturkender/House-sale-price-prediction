{
 "cells": [
  {
   "cell_type": "markdown",
   "metadata": {},
   "source": [
    "# HOUSE SALE PRICE PREDICTION \n",
    "In this project, we used LinearRegression to predict house market prices in Ames-IOWA. Two different model have been trained, before and after feature engineering, to see the improvement better."
   ]
  },
  {
   "cell_type": "code",
   "execution_count": 1,
   "metadata": {},
   "outputs": [],
   "source": [
    "import pandas as pd\n",
    "import numpy as np\n",
    "import matplotlib.pyplot as plt\n",
    "import seaborn as sns\n",
    "%matplotlib inline\n",
    "\n",
    "from sklearn.model_selection import KFold, train_test_split\n",
    "from sklearn.metrics import mean_squared_error\n",
    "from sklearn.linear_model import LinearRegression"
   ]
  },
  {
   "cell_type": "code",
   "execution_count": 2,
   "metadata": {},
   "outputs": [],
   "source": [
    "df = pd.read_csv(\"AmesHousing.tsv\", delimiter=\"\\t\")"
   ]
  },
  {
   "cell_type": "code",
   "execution_count": 3,
   "metadata": {},
   "outputs": [
    {
     "data": {
      "text/html": [
       "<div>\n",
       "<style scoped>\n",
       "    .dataframe tbody tr th:only-of-type {\n",
       "        vertical-align: middle;\n",
       "    }\n",
       "\n",
       "    .dataframe tbody tr th {\n",
       "        vertical-align: top;\n",
       "    }\n",
       "\n",
       "    .dataframe thead th {\n",
       "        text-align: right;\n",
       "    }\n",
       "</style>\n",
       "<table border=\"1\" class=\"dataframe\">\n",
       "  <thead>\n",
       "    <tr style=\"text-align: right;\">\n",
       "      <th></th>\n",
       "      <th>Order</th>\n",
       "      <th>PID</th>\n",
       "      <th>MS SubClass</th>\n",
       "      <th>MS Zoning</th>\n",
       "      <th>Lot Frontage</th>\n",
       "      <th>Lot Area</th>\n",
       "      <th>Street</th>\n",
       "      <th>Alley</th>\n",
       "      <th>Lot Shape</th>\n",
       "      <th>Land Contour</th>\n",
       "      <th>...</th>\n",
       "      <th>Pool Area</th>\n",
       "      <th>Pool QC</th>\n",
       "      <th>Fence</th>\n",
       "      <th>Misc Feature</th>\n",
       "      <th>Misc Val</th>\n",
       "      <th>Mo Sold</th>\n",
       "      <th>Yr Sold</th>\n",
       "      <th>Sale Type</th>\n",
       "      <th>Sale Condition</th>\n",
       "      <th>SalePrice</th>\n",
       "    </tr>\n",
       "  </thead>\n",
       "  <tbody>\n",
       "    <tr>\n",
       "      <th>0</th>\n",
       "      <td>1</td>\n",
       "      <td>526301100</td>\n",
       "      <td>20</td>\n",
       "      <td>RL</td>\n",
       "      <td>141.0</td>\n",
       "      <td>31770</td>\n",
       "      <td>Pave</td>\n",
       "      <td>NaN</td>\n",
       "      <td>IR1</td>\n",
       "      <td>Lvl</td>\n",
       "      <td>...</td>\n",
       "      <td>0</td>\n",
       "      <td>NaN</td>\n",
       "      <td>NaN</td>\n",
       "      <td>NaN</td>\n",
       "      <td>0</td>\n",
       "      <td>5</td>\n",
       "      <td>2010</td>\n",
       "      <td>WD</td>\n",
       "      <td>Normal</td>\n",
       "      <td>215000</td>\n",
       "    </tr>\n",
       "    <tr>\n",
       "      <th>1</th>\n",
       "      <td>2</td>\n",
       "      <td>526350040</td>\n",
       "      <td>20</td>\n",
       "      <td>RH</td>\n",
       "      <td>80.0</td>\n",
       "      <td>11622</td>\n",
       "      <td>Pave</td>\n",
       "      <td>NaN</td>\n",
       "      <td>Reg</td>\n",
       "      <td>Lvl</td>\n",
       "      <td>...</td>\n",
       "      <td>0</td>\n",
       "      <td>NaN</td>\n",
       "      <td>MnPrv</td>\n",
       "      <td>NaN</td>\n",
       "      <td>0</td>\n",
       "      <td>6</td>\n",
       "      <td>2010</td>\n",
       "      <td>WD</td>\n",
       "      <td>Normal</td>\n",
       "      <td>105000</td>\n",
       "    </tr>\n",
       "    <tr>\n",
       "      <th>2</th>\n",
       "      <td>3</td>\n",
       "      <td>526351010</td>\n",
       "      <td>20</td>\n",
       "      <td>RL</td>\n",
       "      <td>81.0</td>\n",
       "      <td>14267</td>\n",
       "      <td>Pave</td>\n",
       "      <td>NaN</td>\n",
       "      <td>IR1</td>\n",
       "      <td>Lvl</td>\n",
       "      <td>...</td>\n",
       "      <td>0</td>\n",
       "      <td>NaN</td>\n",
       "      <td>NaN</td>\n",
       "      <td>Gar2</td>\n",
       "      <td>12500</td>\n",
       "      <td>6</td>\n",
       "      <td>2010</td>\n",
       "      <td>WD</td>\n",
       "      <td>Normal</td>\n",
       "      <td>172000</td>\n",
       "    </tr>\n",
       "    <tr>\n",
       "      <th>3</th>\n",
       "      <td>4</td>\n",
       "      <td>526353030</td>\n",
       "      <td>20</td>\n",
       "      <td>RL</td>\n",
       "      <td>93.0</td>\n",
       "      <td>11160</td>\n",
       "      <td>Pave</td>\n",
       "      <td>NaN</td>\n",
       "      <td>Reg</td>\n",
       "      <td>Lvl</td>\n",
       "      <td>...</td>\n",
       "      <td>0</td>\n",
       "      <td>NaN</td>\n",
       "      <td>NaN</td>\n",
       "      <td>NaN</td>\n",
       "      <td>0</td>\n",
       "      <td>4</td>\n",
       "      <td>2010</td>\n",
       "      <td>WD</td>\n",
       "      <td>Normal</td>\n",
       "      <td>244000</td>\n",
       "    </tr>\n",
       "    <tr>\n",
       "      <th>4</th>\n",
       "      <td>5</td>\n",
       "      <td>527105010</td>\n",
       "      <td>60</td>\n",
       "      <td>RL</td>\n",
       "      <td>74.0</td>\n",
       "      <td>13830</td>\n",
       "      <td>Pave</td>\n",
       "      <td>NaN</td>\n",
       "      <td>IR1</td>\n",
       "      <td>Lvl</td>\n",
       "      <td>...</td>\n",
       "      <td>0</td>\n",
       "      <td>NaN</td>\n",
       "      <td>MnPrv</td>\n",
       "      <td>NaN</td>\n",
       "      <td>0</td>\n",
       "      <td>3</td>\n",
       "      <td>2010</td>\n",
       "      <td>WD</td>\n",
       "      <td>Normal</td>\n",
       "      <td>189900</td>\n",
       "    </tr>\n",
       "  </tbody>\n",
       "</table>\n",
       "<p>5 rows × 82 columns</p>\n",
       "</div>"
      ],
      "text/plain": [
       "   Order        PID  MS SubClass MS Zoning  Lot Frontage  Lot Area Street  \\\n",
       "0      1  526301100           20        RL         141.0     31770   Pave   \n",
       "1      2  526350040           20        RH          80.0     11622   Pave   \n",
       "2      3  526351010           20        RL          81.0     14267   Pave   \n",
       "3      4  526353030           20        RL          93.0     11160   Pave   \n",
       "4      5  527105010           60        RL          74.0     13830   Pave   \n",
       "\n",
       "  Alley Lot Shape Land Contour    ...     Pool Area Pool QC  Fence  \\\n",
       "0   NaN       IR1          Lvl    ...             0     NaN    NaN   \n",
       "1   NaN       Reg          Lvl    ...             0     NaN  MnPrv   \n",
       "2   NaN       IR1          Lvl    ...             0     NaN    NaN   \n",
       "3   NaN       Reg          Lvl    ...             0     NaN    NaN   \n",
       "4   NaN       IR1          Lvl    ...             0     NaN  MnPrv   \n",
       "\n",
       "  Misc Feature Misc Val Mo Sold Yr Sold Sale Type  Sale Condition  SalePrice  \n",
       "0          NaN        0       5    2010       WD           Normal     215000  \n",
       "1          NaN        0       6    2010       WD           Normal     105000  \n",
       "2         Gar2    12500       6    2010       WD           Normal     172000  \n",
       "3          NaN        0       4    2010       WD           Normal     244000  \n",
       "4          NaN        0       3    2010       WD           Normal     189900  \n",
       "\n",
       "[5 rows x 82 columns]"
      ]
     },
     "execution_count": 3,
     "metadata": {},
     "output_type": "execute_result"
    }
   ],
   "source": [
    "df.head()"
   ]
  },
  {
   "cell_type": "code",
   "execution_count": 4,
   "metadata": {},
   "outputs": [
    {
     "name": "stdout",
     "output_type": "stream",
     "text": [
      "<class 'pandas.core.frame.DataFrame'>\n",
      "RangeIndex: 2930 entries, 0 to 2929\n",
      "Data columns (total 82 columns):\n",
      "Order              2930 non-null int64\n",
      "PID                2930 non-null int64\n",
      "MS SubClass        2930 non-null int64\n",
      "MS Zoning          2930 non-null object\n",
      "Lot Frontage       2440 non-null float64\n",
      "Lot Area           2930 non-null int64\n",
      "Street             2930 non-null object\n",
      "Alley              198 non-null object\n",
      "Lot Shape          2930 non-null object\n",
      "Land Contour       2930 non-null object\n",
      "Utilities          2930 non-null object\n",
      "Lot Config         2930 non-null object\n",
      "Land Slope         2930 non-null object\n",
      "Neighborhood       2930 non-null object\n",
      "Condition 1        2930 non-null object\n",
      "Condition 2        2930 non-null object\n",
      "Bldg Type          2930 non-null object\n",
      "House Style        2930 non-null object\n",
      "Overall Qual       2930 non-null int64\n",
      "Overall Cond       2930 non-null int64\n",
      "Year Built         2930 non-null int64\n",
      "Year Remod/Add     2930 non-null int64\n",
      "Roof Style         2930 non-null object\n",
      "Roof Matl          2930 non-null object\n",
      "Exterior 1st       2930 non-null object\n",
      "Exterior 2nd       2930 non-null object\n",
      "Mas Vnr Type       2907 non-null object\n",
      "Mas Vnr Area       2907 non-null float64\n",
      "Exter Qual         2930 non-null object\n",
      "Exter Cond         2930 non-null object\n",
      "Foundation         2930 non-null object\n",
      "Bsmt Qual          2850 non-null object\n",
      "Bsmt Cond          2850 non-null object\n",
      "Bsmt Exposure      2847 non-null object\n",
      "BsmtFin Type 1     2850 non-null object\n",
      "BsmtFin SF 1       2929 non-null float64\n",
      "BsmtFin Type 2     2849 non-null object\n",
      "BsmtFin SF 2       2929 non-null float64\n",
      "Bsmt Unf SF        2929 non-null float64\n",
      "Total Bsmt SF      2929 non-null float64\n",
      "Heating            2930 non-null object\n",
      "Heating QC         2930 non-null object\n",
      "Central Air        2930 non-null object\n",
      "Electrical         2929 non-null object\n",
      "1st Flr SF         2930 non-null int64\n",
      "2nd Flr SF         2930 non-null int64\n",
      "Low Qual Fin SF    2930 non-null int64\n",
      "Gr Liv Area        2930 non-null int64\n",
      "Bsmt Full Bath     2928 non-null float64\n",
      "Bsmt Half Bath     2928 non-null float64\n",
      "Full Bath          2930 non-null int64\n",
      "Half Bath          2930 non-null int64\n",
      "Bedroom AbvGr      2930 non-null int64\n",
      "Kitchen AbvGr      2930 non-null int64\n",
      "Kitchen Qual       2930 non-null object\n",
      "TotRms AbvGrd      2930 non-null int64\n",
      "Functional         2930 non-null object\n",
      "Fireplaces         2930 non-null int64\n",
      "Fireplace Qu       1508 non-null object\n",
      "Garage Type        2773 non-null object\n",
      "Garage Yr Blt      2771 non-null float64\n",
      "Garage Finish      2771 non-null object\n",
      "Garage Cars        2929 non-null float64\n",
      "Garage Area        2929 non-null float64\n",
      "Garage Qual        2771 non-null object\n",
      "Garage Cond        2771 non-null object\n",
      "Paved Drive        2930 non-null object\n",
      "Wood Deck SF       2930 non-null int64\n",
      "Open Porch SF      2930 non-null int64\n",
      "Enclosed Porch     2930 non-null int64\n",
      "3Ssn Porch         2930 non-null int64\n",
      "Screen Porch       2930 non-null int64\n",
      "Pool Area          2930 non-null int64\n",
      "Pool QC            13 non-null object\n",
      "Fence              572 non-null object\n",
      "Misc Feature       106 non-null object\n",
      "Misc Val           2930 non-null int64\n",
      "Mo Sold            2930 non-null int64\n",
      "Yr Sold            2930 non-null int64\n",
      "Sale Type          2930 non-null object\n",
      "Sale Condition     2930 non-null object\n",
      "SalePrice          2930 non-null int64\n",
      "dtypes: float64(11), int64(28), object(43)\n",
      "memory usage: 1.8+ MB\n"
     ]
    }
   ],
   "source": [
    "df.info()"
   ]
  },
  {
   "cell_type": "markdown",
   "metadata": {},
   "source": [
    "There are quiet a bit of columns that include non-numeric data. Let us first create a quick linear regression model with only the numeric columns."
   ]
  },
  {
   "cell_type": "code",
   "execution_count": 5,
   "metadata": {},
   "outputs": [],
   "source": [
    "df_0 = df.select_dtypes(include=[\"integer\", \"float\"])"
   ]
  },
  {
   "cell_type": "code",
   "execution_count": 6,
   "metadata": {},
   "outputs": [
    {
     "data": {
      "text/plain": [
       "Order                0\n",
       "PID                  0\n",
       "MS SubClass          0\n",
       "Lot Frontage       490\n",
       "Lot Area             0\n",
       "Overall Qual         0\n",
       "Overall Cond         0\n",
       "Year Built           0\n",
       "Year Remod/Add       0\n",
       "Mas Vnr Area        23\n",
       "BsmtFin SF 1         1\n",
       "BsmtFin SF 2         1\n",
       "Bsmt Unf SF          1\n",
       "Total Bsmt SF        1\n",
       "1st Flr SF           0\n",
       "2nd Flr SF           0\n",
       "Low Qual Fin SF      0\n",
       "Gr Liv Area          0\n",
       "Bsmt Full Bath       2\n",
       "Bsmt Half Bath       2\n",
       "Full Bath            0\n",
       "Half Bath            0\n",
       "Bedroom AbvGr        0\n",
       "Kitchen AbvGr        0\n",
       "TotRms AbvGrd        0\n",
       "Fireplaces           0\n",
       "Garage Yr Blt      159\n",
       "Garage Cars          1\n",
       "Garage Area          1\n",
       "Wood Deck SF         0\n",
       "Open Porch SF        0\n",
       "Enclosed Porch       0\n",
       "3Ssn Porch           0\n",
       "Screen Porch         0\n",
       "Pool Area            0\n",
       "Misc Val             0\n",
       "Mo Sold              0\n",
       "Yr Sold              0\n",
       "SalePrice            0\n",
       "dtype: int64"
      ]
     },
     "execution_count": 6,
     "metadata": {},
     "output_type": "execute_result"
    }
   ],
   "source": [
    "df_0.isnull().sum()"
   ]
  },
  {
   "cell_type": "code",
   "execution_count": 7,
   "metadata": {},
   "outputs": [],
   "source": [
    "df_0 = df_0.drop([\"Lot Frontage\", \"Garage Yr Blt\"], axis=1)"
   ]
  },
  {
   "cell_type": "code",
   "execution_count": 8,
   "metadata": {},
   "outputs": [],
   "source": [
    "df_0 = df_0.dropna()"
   ]
  },
  {
   "cell_type": "code",
   "execution_count": 9,
   "metadata": {},
   "outputs": [
    {
     "data": {
      "text/plain": [
       "Order              0\n",
       "PID                0\n",
       "MS SubClass        0\n",
       "Lot Area           0\n",
       "Overall Qual       0\n",
       "Overall Cond       0\n",
       "Year Built         0\n",
       "Year Remod/Add     0\n",
       "Mas Vnr Area       0\n",
       "BsmtFin SF 1       0\n",
       "BsmtFin SF 2       0\n",
       "Bsmt Unf SF        0\n",
       "Total Bsmt SF      0\n",
       "1st Flr SF         0\n",
       "2nd Flr SF         0\n",
       "Low Qual Fin SF    0\n",
       "Gr Liv Area        0\n",
       "Bsmt Full Bath     0\n",
       "Bsmt Half Bath     0\n",
       "Full Bath          0\n",
       "Half Bath          0\n",
       "Bedroom AbvGr      0\n",
       "Kitchen AbvGr      0\n",
       "TotRms AbvGrd      0\n",
       "Fireplaces         0\n",
       "Garage Cars        0\n",
       "Garage Area        0\n",
       "Wood Deck SF       0\n",
       "Open Porch SF      0\n",
       "Enclosed Porch     0\n",
       "3Ssn Porch         0\n",
       "Screen Porch       0\n",
       "Pool Area          0\n",
       "Misc Val           0\n",
       "Mo Sold            0\n",
       "Yr Sold            0\n",
       "SalePrice          0\n",
       "dtype: int64"
      ]
     },
     "execution_count": 9,
     "metadata": {},
     "output_type": "execute_result"
    }
   ],
   "source": [
    "df_0.isnull().sum()"
   ]
  },
  {
   "cell_type": "code",
   "execution_count": 10,
   "metadata": {},
   "outputs": [],
   "source": [
    "X = df_0.drop([\"SalePrice\"], axis=1)"
   ]
  },
  {
   "cell_type": "code",
   "execution_count": 11,
   "metadata": {},
   "outputs": [],
   "source": [
    "y=df_0[\"SalePrice\"]"
   ]
  },
  {
   "cell_type": "code",
   "execution_count": 12,
   "metadata": {},
   "outputs": [
    {
     "name": "stdout",
     "output_type": "stream",
     "text": [
      "34859.32380574961\n"
     ]
    }
   ],
   "source": [
    "rmse_lst=[]\n",
    "\n",
    "for i in range(100):\n",
    "    X_train, X_test, y_train, y_test = train_test_split(X, y, test_size=0.3, random_state=i)\n",
    "    lr = LinearRegression()\n",
    "    lr.fit(X_train,y_train)\n",
    "    predictions = lr.predict(X_test)\n",
    "    rmse_lst.append(np.sqrt (mean_squared_error(y_test, predictions)))\n",
    "\n",
    "rmse = np.mean(rmse_lst)    \n",
    "print(rmse)"
   ]
  },
  {
   "cell_type": "code",
   "execution_count": 13,
   "metadata": {},
   "outputs": [
    {
     "name": "stdout",
     "output_type": "stream",
     "text": [
      "Mean of the SalePrice: 180389.4\n",
      "Root mean square error of the created initial model: 34859.32\n",
      "Percentage 19.32%\n"
     ]
    }
   ],
   "source": [
    "print(\"Mean of the SalePrice: \"+str(round(y.mean(),2)))\n",
    "print(\"Root mean square error of the created initial model: \" + str(round(rmse,2)))\n",
    "print(\"Percentage \" + str(round(rmse/y.mean()*100,2))+\"%\")"
   ]
  },
  {
   "cell_type": "markdown",
   "metadata": {},
   "source": [
    "This, we can see some sort of a roof that we should improve doing feature engineering. We observed from the glossary that there exists no column which give the information about age of the premises and the time passed since the house is remodeled, which is an importtant criteria. However, there are other information, with which we can create our own."
   ]
  },
  {
   "cell_type": "code",
   "execution_count": 14,
   "metadata": {},
   "outputs": [
    {
     "data": {
      "text/plain": [
       "2180   -1\n",
       "dtype: int64"
      ]
     },
     "execution_count": 14,
     "metadata": {},
     "output_type": "execute_result"
    }
   ],
   "source": [
    "years_sold = df['Yr Sold'] - df['Year Built']\n",
    "years_sold[years_sold < 0]"
   ]
  },
  {
   "cell_type": "code",
   "execution_count": 15,
   "metadata": {},
   "outputs": [
    {
     "data": {
      "text/plain": [
       "1702   -1\n",
       "2180   -2\n",
       "2181   -1\n",
       "dtype: int64"
      ]
     },
     "execution_count": 15,
     "metadata": {},
     "output_type": "execute_result"
    }
   ],
   "source": [
    "years_since_remod = df['Yr Sold'] - df['Year Remod/Add']\n",
    "years_since_remod[years_since_remod < 0]"
   ]
  },
  {
   "cell_type": "code",
   "execution_count": 16,
   "metadata": {},
   "outputs": [],
   "source": [
    "# Create new columns\n",
    "df['Years Before Sale'] = years_sold\n",
    "df['Years Since Remod'] = years_since_remod\n",
    "\n",
    "# Drop rows with negative values for both of these new features\n",
    "df = df.drop([1702, 2180, 2181], axis=0)\n",
    "\n",
    "# No longer need original year columns\n",
    "df = df.drop([\"Year Built\", \"Year Remod/Add\"], axis = 1)"
   ]
  },
  {
   "cell_type": "code",
   "execution_count": 17,
   "metadata": {},
   "outputs": [],
   "source": [
    "# RULES FOR THE DATA CLEANINING\n",
    "# 1. Remove all features that has more than 5% missing values\n",
    "# 2. Numerical Columns:\n",
    "#    2.1 Remove all columns that has absolute correlation less than 0.4\n",
    "#    2.2 Remove all columns that has normalized std less than 10% of normalized std of target column\n",
    "#    2.3 Remove all columns that has more than 0.85 absolute correlation in between.\n",
    "#    \n",
    "# 3. Non-numerical Columns:\n",
    "#    3.1 Remove unnecessary source-of-leak columns\n",
    "#    3.2 Remove all columns that has more than 10 unique values, categorize the rest.\n"
   ]
  },
  {
   "cell_type": "code",
   "execution_count": 18,
   "metadata": {},
   "outputs": [
    {
     "name": "stdout",
     "output_type": "stream",
     "text": [
      "Pool QC              99.555859\n",
      "Misc Feature         96.412709\n",
      "Alley                93.235395\n",
      "Fence                80.457807\n",
      "Fireplace Qu         48.582166\n",
      "Lot Frontage         16.740690\n",
      "Garage Qual           5.432183\n",
      "Garage Finish         5.432183\n",
      "Garage Yr Blt         5.432183\n",
      "Garage Cond           5.432183\n",
      "Garage Type           5.363854\n",
      "Bsmt Exposure         2.835668\n",
      "BsmtFin Type 2        2.767339\n",
      "Bsmt Qual             2.733174\n",
      "BsmtFin Type 1        2.733174\n",
      "Bsmt Cond             2.733174\n",
      "Mas Vnr Type          0.785787\n",
      "Mas Vnr Area          0.785787\n",
      "Bsmt Full Bath        0.068329\n",
      "Bsmt Half Bath        0.068329\n",
      "Garage Area           0.034165\n",
      "Garage Cars           0.034165\n",
      "Electrical            0.034165\n",
      "Total Bsmt SF         0.034165\n",
      "Bsmt Unf SF           0.034165\n",
      "BsmtFin SF 2          0.034165\n",
      "BsmtFin SF 1          0.034165\n",
      "Roof Matl             0.000000\n",
      "Exter Cond            0.000000\n",
      "Foundation            0.000000\n",
      "                       ...    \n",
      "Central Air           0.000000\n",
      "Heating               0.000000\n",
      "Paved Drive           0.000000\n",
      "SalePrice             0.000000\n",
      "Sale Condition        0.000000\n",
      "Sale Type             0.000000\n",
      "Yr Sold               0.000000\n",
      "Mo Sold               0.000000\n",
      "Misc Val              0.000000\n",
      "Pool Area             0.000000\n",
      "Screen Porch          0.000000\n",
      "3Ssn Porch            0.000000\n",
      "Enclosed Porch        0.000000\n",
      "Open Porch SF         0.000000\n",
      "Wood Deck SF          0.000000\n",
      "Fireplaces            0.000000\n",
      "Heating QC            0.000000\n",
      "Functional            0.000000\n",
      "TotRms AbvGrd         0.000000\n",
      "Kitchen Qual          0.000000\n",
      "Kitchen AbvGr         0.000000\n",
      "Bedroom AbvGr         0.000000\n",
      "Half Bath             0.000000\n",
      "Full Bath             0.000000\n",
      "Gr Liv Area           0.000000\n",
      "Low Qual Fin SF       0.000000\n",
      "2nd Flr SF            0.000000\n",
      "1st Flr SF            0.000000\n",
      "Years Before Sale     0.000000\n",
      "Order                 0.000000\n",
      "Length: 82, dtype: float64\n"
     ]
    }
   ],
   "source": [
    "null_check = df.isnull().sum()/len(df.SalePrice)*100\n",
    "null_check = null_check.sort_values(ascending = False)\n",
    "print(null_check)"
   ]
  },
  {
   "cell_type": "code",
   "execution_count": 19,
   "metadata": {},
   "outputs": [],
   "source": [
    "# Step 1 completed\n",
    "df_1 = df.drop(null_check[null_check>5].index, axis = 1)"
   ]
  },
  {
   "cell_type": "code",
   "execution_count": 20,
   "metadata": {},
   "outputs": [
    {
     "name": "stdout",
     "output_type": "stream",
     "text": [
      "BsmtFin SF 2         0.006001\n",
      "Misc Val             0.019273\n",
      "Yr Sold              0.030358\n",
      "Order                0.031542\n",
      "3Ssn Porch           0.032268\n",
      "Mo Sold              0.035273\n",
      "Bsmt Half Bath       0.035894\n",
      "Low Qual Fin SF      0.037629\n",
      "Pool Area            0.068438\n",
      "MS SubClass          0.085128\n",
      "Overall Cond         0.101540\n",
      "Screen Porch         0.112280\n",
      "Kitchen AbvGr        0.119760\n",
      "Enclosed Porch       0.128685\n",
      "Bedroom AbvGr        0.143916\n",
      "Bsmt Unf SF          0.182299\n",
      "PID                  0.246389\n",
      "Lot Area             0.267520\n",
      "2nd Flr SF           0.269601\n",
      "Bsmt Full Bath       0.276486\n",
      "Half Bath            0.284871\n",
      "Open Porch SF        0.316262\n",
      "Wood Deck SF         0.328183\n",
      "BsmtFin SF 1         0.439051\n",
      "Fireplaces           0.474831\n",
      "TotRms AbvGrd        0.498574\n",
      "Mas Vnr Area         0.513121\n",
      "Years Since Remod    0.534985\n",
      "Full Bath            0.546118\n",
      "Years Before Sale    0.558979\n",
      "1st Flr SF           0.635185\n",
      "Garage Area          0.641690\n",
      "Total Bsmt SF        0.643782\n",
      "Garage Cars          0.648427\n",
      "Gr Liv Area          0.717596\n",
      "Overall Qual         0.801206\n",
      "SalePrice            1.000000\n",
      "Name: SalePrice, dtype: float64\n"
     ]
    }
   ],
   "source": [
    "corr_1 = np.absolute(df_1.corr()[\"SalePrice\"]).sort_values()\n",
    "print(corr_1)"
   ]
  },
  {
   "cell_type": "code",
   "execution_count": 21,
   "metadata": {},
   "outputs": [],
   "source": [
    "# Step 2.1 completed\n",
    "df_2_1 = df_1.drop(corr_1[corr_1<0.4].index, axis=1)"
   ]
  },
  {
   "cell_type": "code",
   "execution_count": 22,
   "metadata": {},
   "outputs": [
    {
     "data": {
      "text/plain": [
       "Overall Qual             1.407608\n",
       "Mas Vnr Area           177.557713\n",
       "BsmtFin SF 1           449.695534\n",
       "Total Bsmt SF          432.622010\n",
       "1st Flr SF             383.457136\n",
       "Gr Liv Area            497.778692\n",
       "Full Bath                0.552472\n",
       "TotRms AbvGrd            1.563491\n",
       "Fireplaces               0.647650\n",
       "Garage Cars              0.760260\n",
       "Garage Area            214.600881\n",
       "SalePrice            79914.124173\n",
       "Years Before Sale       30.283980\n",
       "Years Since Remod       20.854332\n",
       "dtype: float64"
      ]
     },
     "execution_count": 22,
     "metadata": {},
     "output_type": "execute_result"
    }
   ],
   "source": [
    "df_2_1.std()"
   ]
  },
  {
   "cell_type": "code",
   "execution_count": 23,
   "metadata": {},
   "outputs": [],
   "source": [
    "numeric_cols_2_1 = df_2_1.select_dtypes(include=[\"integer\", \"float\"]).columns\n",
    "df_2_2= df_2_1\n",
    "\n",
    "std_2_2 = ((df_2_2[numeric_cols_2_1]-df_2_2[numeric_cols_2_1].min()) / (df_2_2[numeric_cols_2_1].max() - df_2_2[numeric_cols_2_1].min())).std()"
   ]
  },
  {
   "cell_type": "code",
   "execution_count": 24,
   "metadata": {},
   "outputs": [
    {
     "data": {
      "text/plain": [
       "Overall Qual         0.156401\n",
       "Mas Vnr Area         0.110974\n",
       "BsmtFin SF 1         0.079677\n",
       "Total Bsmt SF        0.070806\n",
       "1st Flr SF           0.087989\n",
       "Gr Liv Area          0.093779\n",
       "Full Bath            0.138118\n",
       "TotRms AbvGrd        0.130291\n",
       "Fireplaces           0.161913\n",
       "Garage Cars          0.152052\n",
       "Garage Area          0.144221\n",
       "SalePrice            0.107670\n",
       "Years Before Sale    0.222676\n",
       "Years Since Remod    0.347572\n",
       "dtype: float64"
      ]
     },
     "execution_count": 24,
     "metadata": {},
     "output_type": "execute_result"
    }
   ],
   "source": [
    "std_2_2"
   ]
  },
  {
   "cell_type": "markdown",
   "metadata": {},
   "source": [
    "It is observed from the list above that there is no numerical columns that has a normalized std less than 1/10th of normalized std of SalePrice. Therefore step 2.2 is completed."
   ]
  },
  {
   "cell_type": "code",
   "execution_count": 25,
   "metadata": {},
   "outputs": [
    {
     "data": {
      "text/plain": [
       "<matplotlib.axes._subplots.AxesSubplot at 0x231f328f908>"
      ]
     },
     "execution_count": 25,
     "metadata": {},
     "output_type": "execute_result"
    },
    {
     "data": {
      "image/png": "[encoded data removed]",
      "text/plain": [
       "<Figure size 720x720 with 2 Axes>"
      ]
     },
     "metadata": {
      "needs_background": "light"
     },
     "output_type": "display_data"
    }
   ],
   "source": [
    "plt.figure(figsize=(10,10))\n",
    "sns.heatmap(df_2_2.corr().abs())"
   ]
  },
  {
   "cell_type": "markdown",
   "metadata": {},
   "source": [
    "In general, it looks safe, however, here are some columns that are over-correlated, like Garage Cars and Garage Area, which make sense actually. We should drop one of those. Just to make sure, let us do the same with numbers."
   ]
  },
  {
   "cell_type": "code",
   "execution_count": 26,
   "metadata": {},
   "outputs": [
    {
     "data": {
      "text/html": [
       "<div>\n",
       "<style scoped>\n",
       "    .dataframe tbody tr th:only-of-type {\n",
       "        vertical-align: middle;\n",
       "    }\n",
       "\n",
       "    .dataframe tbody tr th {\n",
       "        vertical-align: top;\n",
       "    }\n",
       "\n",
       "    .dataframe thead th {\n",
       "        text-align: right;\n",
       "    }\n",
       "</style>\n",
       "<table border=\"1\" class=\"dataframe\">\n",
       "  <thead>\n",
       "    <tr style=\"text-align: right;\">\n",
       "      <th></th>\n",
       "      <th>Overall Qual</th>\n",
       "      <th>Mas Vnr Area</th>\n",
       "      <th>BsmtFin SF 1</th>\n",
       "      <th>Total Bsmt SF</th>\n",
       "      <th>1st Flr SF</th>\n",
       "      <th>Gr Liv Area</th>\n",
       "      <th>Full Bath</th>\n",
       "      <th>TotRms AbvGrd</th>\n",
       "      <th>Fireplaces</th>\n",
       "      <th>Garage Cars</th>\n",
       "      <th>Garage Area</th>\n",
       "      <th>SalePrice</th>\n",
       "      <th>Years Before Sale</th>\n",
       "      <th>Years Since Remod</th>\n",
       "    </tr>\n",
       "  </thead>\n",
       "  <tbody>\n",
       "    <tr>\n",
       "      <th>Overall Qual</th>\n",
       "      <td>1.0</td>\n",
       "      <td>NaN</td>\n",
       "      <td>NaN</td>\n",
       "      <td>NaN</td>\n",
       "      <td>NaN</td>\n",
       "      <td>NaN</td>\n",
       "      <td>NaN</td>\n",
       "      <td>NaN</td>\n",
       "      <td>NaN</td>\n",
       "      <td>NaN</td>\n",
       "      <td>NaN</td>\n",
       "      <td>NaN</td>\n",
       "      <td>NaN</td>\n",
       "      <td>NaN</td>\n",
       "    </tr>\n",
       "    <tr>\n",
       "      <th>Mas Vnr Area</th>\n",
       "      <td>NaN</td>\n",
       "      <td>1.0</td>\n",
       "      <td>NaN</td>\n",
       "      <td>NaN</td>\n",
       "      <td>NaN</td>\n",
       "      <td>NaN</td>\n",
       "      <td>NaN</td>\n",
       "      <td>NaN</td>\n",
       "      <td>NaN</td>\n",
       "      <td>NaN</td>\n",
       "      <td>NaN</td>\n",
       "      <td>NaN</td>\n",
       "      <td>NaN</td>\n",
       "      <td>NaN</td>\n",
       "    </tr>\n",
       "    <tr>\n",
       "      <th>BsmtFin SF 1</th>\n",
       "      <td>NaN</td>\n",
       "      <td>NaN</td>\n",
       "      <td>1.0</td>\n",
       "      <td>NaN</td>\n",
       "      <td>NaN</td>\n",
       "      <td>NaN</td>\n",
       "      <td>NaN</td>\n",
       "      <td>NaN</td>\n",
       "      <td>NaN</td>\n",
       "      <td>NaN</td>\n",
       "      <td>NaN</td>\n",
       "      <td>NaN</td>\n",
       "      <td>NaN</td>\n",
       "      <td>NaN</td>\n",
       "    </tr>\n",
       "    <tr>\n",
       "      <th>Total Bsmt SF</th>\n",
       "      <td>NaN</td>\n",
       "      <td>NaN</td>\n",
       "      <td>NaN</td>\n",
       "      <td>1.0</td>\n",
       "      <td>NaN</td>\n",
       "      <td>NaN</td>\n",
       "      <td>NaN</td>\n",
       "      <td>NaN</td>\n",
       "      <td>NaN</td>\n",
       "      <td>NaN</td>\n",
       "      <td>NaN</td>\n",
       "      <td>NaN</td>\n",
       "      <td>NaN</td>\n",
       "      <td>NaN</td>\n",
       "    </tr>\n",
       "    <tr>\n",
       "      <th>1st Flr SF</th>\n",
       "      <td>NaN</td>\n",
       "      <td>NaN</td>\n",
       "      <td>NaN</td>\n",
       "      <td>NaN</td>\n",
       "      <td>1.0</td>\n",
       "      <td>NaN</td>\n",
       "      <td>NaN</td>\n",
       "      <td>NaN</td>\n",
       "      <td>NaN</td>\n",
       "      <td>NaN</td>\n",
       "      <td>NaN</td>\n",
       "      <td>NaN</td>\n",
       "      <td>NaN</td>\n",
       "      <td>NaN</td>\n",
       "    </tr>\n",
       "    <tr>\n",
       "      <th>Gr Liv Area</th>\n",
       "      <td>NaN</td>\n",
       "      <td>NaN</td>\n",
       "      <td>NaN</td>\n",
       "      <td>NaN</td>\n",
       "      <td>NaN</td>\n",
       "      <td>1.0</td>\n",
       "      <td>NaN</td>\n",
       "      <td>NaN</td>\n",
       "      <td>NaN</td>\n",
       "      <td>NaN</td>\n",
       "      <td>NaN</td>\n",
       "      <td>NaN</td>\n",
       "      <td>NaN</td>\n",
       "      <td>NaN</td>\n",
       "    </tr>\n",
       "    <tr>\n",
       "      <th>Full Bath</th>\n",
       "      <td>NaN</td>\n",
       "      <td>NaN</td>\n",
       "      <td>NaN</td>\n",
       "      <td>NaN</td>\n",
       "      <td>NaN</td>\n",
       "      <td>NaN</td>\n",
       "      <td>1.0</td>\n",
       "      <td>NaN</td>\n",
       "      <td>NaN</td>\n",
       "      <td>NaN</td>\n",
       "      <td>NaN</td>\n",
       "      <td>NaN</td>\n",
       "      <td>NaN</td>\n",
       "      <td>NaN</td>\n",
       "    </tr>\n",
       "    <tr>\n",
       "      <th>TotRms AbvGrd</th>\n",
       "      <td>NaN</td>\n",
       "      <td>NaN</td>\n",
       "      <td>NaN</td>\n",
       "      <td>NaN</td>\n",
       "      <td>NaN</td>\n",
       "      <td>NaN</td>\n",
       "      <td>NaN</td>\n",
       "      <td>1.0</td>\n",
       "      <td>NaN</td>\n",
       "      <td>NaN</td>\n",
       "      <td>NaN</td>\n",
       "      <td>NaN</td>\n",
       "      <td>NaN</td>\n",
       "      <td>NaN</td>\n",
       "    </tr>\n",
       "    <tr>\n",
       "      <th>Fireplaces</th>\n",
       "      <td>NaN</td>\n",
       "      <td>NaN</td>\n",
       "      <td>NaN</td>\n",
       "      <td>NaN</td>\n",
       "      <td>NaN</td>\n",
       "      <td>NaN</td>\n",
       "      <td>NaN</td>\n",
       "      <td>NaN</td>\n",
       "      <td>1.0</td>\n",
       "      <td>NaN</td>\n",
       "      <td>NaN</td>\n",
       "      <td>NaN</td>\n",
       "      <td>NaN</td>\n",
       "      <td>NaN</td>\n",
       "    </tr>\n",
       "    <tr>\n",
       "      <th>Garage Cars</th>\n",
       "      <td>NaN</td>\n",
       "      <td>NaN</td>\n",
       "      <td>NaN</td>\n",
       "      <td>NaN</td>\n",
       "      <td>NaN</td>\n",
       "      <td>NaN</td>\n",
       "      <td>NaN</td>\n",
       "      <td>NaN</td>\n",
       "      <td>NaN</td>\n",
       "      <td>1.000000</td>\n",
       "      <td>0.889848</td>\n",
       "      <td>NaN</td>\n",
       "      <td>NaN</td>\n",
       "      <td>NaN</td>\n",
       "    </tr>\n",
       "    <tr>\n",
       "      <th>Garage Area</th>\n",
       "      <td>NaN</td>\n",
       "      <td>NaN</td>\n",
       "      <td>NaN</td>\n",
       "      <td>NaN</td>\n",
       "      <td>NaN</td>\n",
       "      <td>NaN</td>\n",
       "      <td>NaN</td>\n",
       "      <td>NaN</td>\n",
       "      <td>NaN</td>\n",
       "      <td>0.889848</td>\n",
       "      <td>1.000000</td>\n",
       "      <td>NaN</td>\n",
       "      <td>NaN</td>\n",
       "      <td>NaN</td>\n",
       "    </tr>\n",
       "    <tr>\n",
       "      <th>SalePrice</th>\n",
       "      <td>NaN</td>\n",
       "      <td>NaN</td>\n",
       "      <td>NaN</td>\n",
       "      <td>NaN</td>\n",
       "      <td>NaN</td>\n",
       "      <td>NaN</td>\n",
       "      <td>NaN</td>\n",
       "      <td>NaN</td>\n",
       "      <td>NaN</td>\n",
       "      <td>NaN</td>\n",
       "      <td>NaN</td>\n",
       "      <td>1.0</td>\n",
       "      <td>NaN</td>\n",
       "      <td>NaN</td>\n",
       "    </tr>\n",
       "    <tr>\n",
       "      <th>Years Before Sale</th>\n",
       "      <td>NaN</td>\n",
       "      <td>NaN</td>\n",
       "      <td>NaN</td>\n",
       "      <td>NaN</td>\n",
       "      <td>NaN</td>\n",
       "      <td>NaN</td>\n",
       "      <td>NaN</td>\n",
       "      <td>NaN</td>\n",
       "      <td>NaN</td>\n",
       "      <td>NaN</td>\n",
       "      <td>NaN</td>\n",
       "      <td>NaN</td>\n",
       "      <td>1.0</td>\n",
       "      <td>NaN</td>\n",
       "    </tr>\n",
       "    <tr>\n",
       "      <th>Years Since Remod</th>\n",
       "      <td>NaN</td>\n",
       "      <td>NaN</td>\n",
       "      <td>NaN</td>\n",
       "      <td>NaN</td>\n",
       "      <td>NaN</td>\n",
       "      <td>NaN</td>\n",
       "      <td>NaN</td>\n",
       "      <td>NaN</td>\n",
       "      <td>NaN</td>\n",
       "      <td>NaN</td>\n",
       "      <td>NaN</td>\n",
       "      <td>NaN</td>\n",
       "      <td>NaN</td>\n",
       "      <td>1.0</td>\n",
       "    </tr>\n",
       "  </tbody>\n",
       "</table>\n",
       "</div>"
      ],
      "text/plain": [
       "                   Overall Qual  Mas Vnr Area  BsmtFin SF 1  Total Bsmt SF  \\\n",
       "Overall Qual                1.0           NaN           NaN            NaN   \n",
       "Mas Vnr Area                NaN           1.0           NaN            NaN   \n",
       "BsmtFin SF 1                NaN           NaN           1.0            NaN   \n",
       "Total Bsmt SF               NaN           NaN           NaN            1.0   \n",
       "1st Flr SF                  NaN           NaN           NaN            NaN   \n",
       "Gr Liv Area                 NaN           NaN           NaN            NaN   \n",
       "Full Bath                   NaN           NaN           NaN            NaN   \n",
       "TotRms AbvGrd               NaN           NaN           NaN            NaN   \n",
       "Fireplaces                  NaN           NaN           NaN            NaN   \n",
       "Garage Cars                 NaN           NaN           NaN            NaN   \n",
       "Garage Area                 NaN           NaN           NaN            NaN   \n",
       "SalePrice                   NaN           NaN           NaN            NaN   \n",
       "Years Before Sale           NaN           NaN           NaN            NaN   \n",
       "Years Since Remod           NaN           NaN           NaN            NaN   \n",
       "\n",
       "                   1st Flr SF  Gr Liv Area  Full Bath  TotRms AbvGrd  \\\n",
       "Overall Qual              NaN          NaN        NaN            NaN   \n",
       "Mas Vnr Area              NaN          NaN        NaN            NaN   \n",
       "BsmtFin SF 1              NaN          NaN        NaN            NaN   \n",
       "Total Bsmt SF             NaN          NaN        NaN            NaN   \n",
       "1st Flr SF                1.0          NaN        NaN            NaN   \n",
       "Gr Liv Area               NaN          1.0        NaN            NaN   \n",
       "Full Bath                 NaN          NaN        1.0            NaN   \n",
       "TotRms AbvGrd             NaN          NaN        NaN            1.0   \n",
       "Fireplaces                NaN          NaN        NaN            NaN   \n",
       "Garage Cars               NaN          NaN        NaN            NaN   \n",
       "Garage Area               NaN          NaN        NaN            NaN   \n",
       "SalePrice                 NaN          NaN        NaN            NaN   \n",
       "Years Before Sale         NaN          NaN        NaN            NaN   \n",
       "Years Since Remod         NaN          NaN        NaN            NaN   \n",
       "\n",
       "                   Fireplaces  Garage Cars  Garage Area  SalePrice  \\\n",
       "Overall Qual              NaN          NaN          NaN        NaN   \n",
       "Mas Vnr Area              NaN          NaN          NaN        NaN   \n",
       "BsmtFin SF 1              NaN          NaN          NaN        NaN   \n",
       "Total Bsmt SF             NaN          NaN          NaN        NaN   \n",
       "1st Flr SF                NaN          NaN          NaN        NaN   \n",
       "Gr Liv Area               NaN          NaN          NaN        NaN   \n",
       "Full Bath                 NaN          NaN          NaN        NaN   \n",
       "TotRms AbvGrd             NaN          NaN          NaN        NaN   \n",
       "Fireplaces                1.0          NaN          NaN        NaN   \n",
       "Garage Cars               NaN     1.000000     0.889848        NaN   \n",
       "Garage Area               NaN     0.889848     1.000000        NaN   \n",
       "SalePrice                 NaN          NaN          NaN        1.0   \n",
       "Years Before Sale         NaN          NaN          NaN        NaN   \n",
       "Years Since Remod         NaN          NaN          NaN        NaN   \n",
       "\n",
       "                   Years Before Sale  Years Since Remod  \n",
       "Overall Qual                     NaN                NaN  \n",
       "Mas Vnr Area                     NaN                NaN  \n",
       "BsmtFin SF 1                     NaN                NaN  \n",
       "Total Bsmt SF                    NaN                NaN  \n",
       "1st Flr SF                       NaN                NaN  \n",
       "Gr Liv Area                      NaN                NaN  \n",
       "Full Bath                        NaN                NaN  \n",
       "TotRms AbvGrd                    NaN                NaN  \n",
       "Fireplaces                       NaN                NaN  \n",
       "Garage Cars                      NaN                NaN  \n",
       "Garage Area                      NaN                NaN  \n",
       "SalePrice                        NaN                NaN  \n",
       "Years Before Sale                1.0                NaN  \n",
       "Years Since Remod                NaN                1.0  "
      ]
     },
     "execution_count": 26,
     "metadata": {},
     "output_type": "execute_result"
    }
   ],
   "source": [
    "df_2_2.corr().abs()[df_2_2.corr().abs()>0.85]"
   ]
  },
  {
   "cell_type": "code",
   "execution_count": 27,
   "metadata": {},
   "outputs": [
    {
     "data": {
      "text/html": [
       "<div>\n",
       "<style scoped>\n",
       "    .dataframe tbody tr th:only-of-type {\n",
       "        vertical-align: middle;\n",
       "    }\n",
       "\n",
       "    .dataframe tbody tr th {\n",
       "        vertical-align: top;\n",
       "    }\n",
       "\n",
       "    .dataframe thead th {\n",
       "        text-align: right;\n",
       "    }\n",
       "</style>\n",
       "<table border=\"1\" class=\"dataframe\">\n",
       "  <thead>\n",
       "    <tr style=\"text-align: right;\">\n",
       "      <th></th>\n",
       "      <th>Garage Area</th>\n",
       "      <th>Garage Cars</th>\n",
       "    </tr>\n",
       "  </thead>\n",
       "  <tbody>\n",
       "    <tr>\n",
       "      <th>0</th>\n",
       "      <td>528.0</td>\n",
       "      <td>2.0</td>\n",
       "    </tr>\n",
       "    <tr>\n",
       "      <th>1</th>\n",
       "      <td>730.0</td>\n",
       "      <td>1.0</td>\n",
       "    </tr>\n",
       "    <tr>\n",
       "      <th>2</th>\n",
       "      <td>312.0</td>\n",
       "      <td>1.0</td>\n",
       "    </tr>\n",
       "    <tr>\n",
       "      <th>3</th>\n",
       "      <td>522.0</td>\n",
       "      <td>2.0</td>\n",
       "    </tr>\n",
       "    <tr>\n",
       "      <th>4</th>\n",
       "      <td>482.0</td>\n",
       "      <td>2.0</td>\n",
       "    </tr>\n",
       "  </tbody>\n",
       "</table>\n",
       "</div>"
      ],
      "text/plain": [
       "   Garage Area  Garage Cars\n",
       "0        528.0          2.0\n",
       "1        730.0          1.0\n",
       "2        312.0          1.0\n",
       "3        522.0          2.0\n",
       "4        482.0          2.0"
      ]
     },
     "execution_count": 27,
     "metadata": {},
     "output_type": "execute_result"
    }
   ],
   "source": [
    "df_2_2[[\"Garage Area\", \"Garage Cars\"]].head()"
   ]
  },
  {
   "cell_type": "markdown",
   "metadata": {},
   "source": [
    "___Garage Area___ looks more repsenetative, therefore we are going to drop ___Garage Cars___"
   ]
  },
  {
   "cell_type": "code",
   "execution_count": 28,
   "metadata": {},
   "outputs": [],
   "source": [
    "df_2_3 = df_2_2.drop([\"Garage Cars\"], axis=1)"
   ]
  },
  {
   "cell_type": "code",
   "execution_count": 29,
   "metadata": {},
   "outputs": [
    {
     "name": "stdout",
     "output_type": "stream",
     "text": [
      "Overall Qual          0\n",
      "Mas Vnr Area         23\n",
      "BsmtFin SF 1          1\n",
      "Total Bsmt SF         1\n",
      "1st Flr SF            0\n",
      "Gr Liv Area           0\n",
      "Full Bath             0\n",
      "TotRms AbvGrd         0\n",
      "Fireplaces            0\n",
      "Garage Area           1\n",
      "SalePrice             0\n",
      "Years Before Sale     0\n",
      "Years Since Remod     0\n",
      "dtype: int64\n",
      "\n",
      "\n",
      "Overall Qual         0\n",
      "Mas Vnr Area         0\n",
      "BsmtFin SF 1         0\n",
      "Total Bsmt SF        0\n",
      "1st Flr SF           0\n",
      "Gr Liv Area          0\n",
      "Full Bath            0\n",
      "TotRms AbvGrd        0\n",
      "Fireplaces           0\n",
      "Garage Area          0\n",
      "SalePrice            0\n",
      "Years Before Sale    0\n",
      "Years Since Remod    0\n",
      "dtype: int64\n"
     ]
    }
   ],
   "source": [
    "df_2_3_0 = df_2_3.select_dtypes(include=[\"integer\", \"float\"])\n",
    "\n",
    "print(df_2_3_0.isnull().sum())\n",
    "print(\"\\n\")\n",
    "df_2_3_0 = df_2_3_0.dropna()\n",
    "print(df_2_3_0.isnull().sum())"
   ]
  },
  {
   "cell_type": "code",
   "execution_count": 30,
   "metadata": {},
   "outputs": [
    {
     "name": "stdout",
     "output_type": "stream",
     "text": [
      "33742.31646598038\n"
     ]
    }
   ],
   "source": [
    "X = df_2_3_0.drop([\"SalePrice\"], axis=1)\n",
    "y = df_2_3_0[\"SalePrice\"]\n",
    "\n",
    "rmse_lst=[]\n",
    "\n",
    "for i in range(100):\n",
    "    X_train, X_test, y_train, y_test = train_test_split(X, y, test_size=0.3, random_state=i)\n",
    "    lr = LinearRegression()\n",
    "    lr.fit(X_train,y_train)\n",
    "    predictions = lr.predict(X_test)\n",
    "    rmse_lst.append(np.sqrt (mean_squared_error(y_test, predictions)))\n",
    "\n",
    "rmse = np.mean(rmse_lst)    \n",
    "print(rmse)"
   ]
  },
  {
   "cell_type": "markdown",
   "metadata": {},
   "source": [
    "This can be considered as an improvement but we need to work on non-numerical columns as well to finalize the model."
   ]
  },
  {
   "cell_type": "code",
   "execution_count": 31,
   "metadata": {},
   "outputs": [],
   "source": [
    "# Drop columns that leak info about the final sale\n",
    "df_3_1 = df_2_3.drop([\"Sale Condition\", \"Sale Type\"], axis=1)"
   ]
  },
  {
   "cell_type": "code",
   "execution_count": 32,
   "metadata": {},
   "outputs": [
    {
     "data": {
      "text/plain": [
       "Index(['Overall Qual', 'Mas Vnr Area', 'BsmtFin SF 1', 'Total Bsmt SF',\n",
       "       '1st Flr SF', 'Gr Liv Area', 'Full Bath', 'TotRms AbvGrd', 'Fireplaces',\n",
       "       'Garage Area', 'SalePrice', 'Years Before Sale', 'Years Since Remod'],\n",
       "      dtype='object')"
      ]
     },
     "execution_count": 32,
     "metadata": {},
     "output_type": "execute_result"
    }
   ],
   "source": [
    "#First let us try to figure out which numerical columns should be categorical rather than numerical \n",
    "#since the numbers do not have semantic meanings by checking glossary.\n",
    "\n",
    "df_3_1.select_dtypes(include=[\"integer\", \"float\"]).columns"
   ]
  },
  {
   "cell_type": "markdown",
   "metadata": {},
   "source": [
    "___Overall Qual___ is given in the glossary as \n",
    "Overall Qual: Rates the overall material and finish of the house\n",
    "\n",
    "       10   Very Excellent\n",
    "       9\tExcellent\n",
    "       8\tVery Good\n",
    "       7\tGood\n",
    "       6\tAbove Average\n",
    "       5\tAverage\n",
    "       4\tBelow Average\n",
    "       3\tFair\n",
    "       2\tPoor\n",
    "       1\tVery Poor \n",
    " which can be considered as a categorical column instead of numerical. "
   ]
  },
  {
   "cell_type": "code",
   "execution_count": 33,
   "metadata": {},
   "outputs": [],
   "source": [
    "overall_qual_dict = {10:\"Very Excellent\", 9: \"Excellent\", 8:\"Very Good\", 7:\"Good\", 6:\"Above Average\", 5:\"Average\", 4:\"Below Average\", 3:\"Fair\", 2:\"Poor\", 1:\"Very Poor\"}\n",
    "def overall_qual_fun(num):\n",
    "    return overall_qual_dict[num]\n",
    "df_3_1[\"Overall Qual\"] = df_3_1[\"Overall Qual\"].apply(overall_qual_fun)"
   ]
  },
  {
   "cell_type": "code",
   "execution_count": 34,
   "metadata": {},
   "outputs": [],
   "source": [
    "# Now is to check the non-numerical columns for the same reason.\n",
    "# Create a list of column names from documentation that are *meant* to be categorical\n",
    "nominal_features = [\"PID\", \"MS SubClass\", \"MS Zoning\", \"Street\", \"Alley\", \"Land Contour\", \"Lot Config\", \"Neighborhood\", \n",
    "                    \"Condition 1\", \"Condition 2\", \"Bldg Type\", \"House Style\", \"Roof Style\", \"Roof Matl\", \"Exterior 1st\", \n",
    "                    \"Exterior 2nd\", \"Mas Vnr Type\", \"Foundation\", \"Heating\", \"Central Air\", \"Garage Type\", \n",
    "                    \"Misc Feature\", \"Sale Type\", \"Sale Condition\"]"
   ]
  },
  {
   "cell_type": "code",
   "execution_count": 35,
   "metadata": {},
   "outputs": [
    {
     "data": {
      "text/plain": [
       "Index(['MS Zoning', 'Street', 'Lot Shape', 'Land Contour', 'Utilities',\n",
       "       'Lot Config', 'Land Slope', 'Neighborhood', 'Condition 1',\n",
       "       'Condition 2', 'Bldg Type', 'House Style', 'Overall Qual', 'Roof Style',\n",
       "       'Roof Matl', 'Exterior 1st', 'Exterior 2nd', 'Mas Vnr Type',\n",
       "       'Exter Qual', 'Exter Cond', 'Foundation', 'Bsmt Qual', 'Bsmt Cond',\n",
       "       'Bsmt Exposure', 'BsmtFin Type 1', 'BsmtFin Type 2', 'Heating',\n",
       "       'Heating QC', 'Central Air', 'Electrical', 'Kitchen Qual', 'Functional',\n",
       "       'Paved Drive'],\n",
       "      dtype='object')"
      ]
     },
     "execution_count": 35,
     "metadata": {},
     "output_type": "execute_result"
    }
   ],
   "source": [
    "df_3_1.select_dtypes(exclude=[\"integer\", \"float\"]).columns"
   ]
  },
  {
   "cell_type": "code",
   "execution_count": 36,
   "metadata": {},
   "outputs": [
    {
     "name": "stdout",
     "output_type": "stream",
     "text": [
      "['MS Zoning', 'Street', 'Land Contour', 'Lot Config', 'Neighborhood', 'Condition 1', 'Condition 2', 'Bldg Type', 'House Style', 'Roof Style', 'Roof Matl', 'Exterior 1st', 'Exterior 2nd', 'Mas Vnr Type', 'Foundation', 'Heating', 'Central Air', 'Overall Qual']\n"
     ]
    }
   ],
   "source": [
    "# Let us first check, out of those nominal features, which of the columns we carried to this point\n",
    "nominal_carried = []\n",
    "for col in nominal_features:\n",
    "    if col in df_3_1.columns:\n",
    "        nominal_carried.append(col)\n",
    "# Overall Qual  columns is numerical but should be categorized as explained above.        \n",
    "nominal_carried.append(\"Overall Qual\")\n",
    "print(nominal_carried)"
   ]
  },
  {
   "cell_type": "markdown",
   "metadata": {},
   "source": [
    "Now we should categorize those columns that have less than or equal to 10 unique value above."
   ]
  },
  {
   "cell_type": "code",
   "execution_count": 37,
   "metadata": {},
   "outputs": [],
   "source": [
    "uniqueness_counts = df_3_1[nominal_carried].apply(lambda col: len(col.value_counts())).sort_values()\n",
    "drop_nonuniq_cols = uniqueness_counts[uniqueness_counts > 10].index\n",
    "df_3_2 = df_3_1.drop(drop_nonuniq_cols, axis=1)\n",
    "    \n",
    "text_cols = df_3_2.select_dtypes(include=['object'])\n",
    "for col in text_cols:\n",
    "    df_3_2[col] = df_3_2[col].astype('category')\n",
    "df_3_2 = pd.concat([df_3_2, pd.get_dummies(df_3_2.select_dtypes(include=['category']))], axis=1).drop(text_cols,axis=1)"
   ]
  },
  {
   "cell_type": "code",
   "execution_count": 38,
   "metadata": {},
   "outputs": [],
   "source": [
    "df_3_2.dropna(inplace=True, axis=0)"
   ]
  },
  {
   "cell_type": "markdown",
   "metadata": {},
   "source": [
    "Now it looks is the time for the final model creation."
   ]
  },
  {
   "cell_type": "code",
   "execution_count": 42,
   "metadata": {},
   "outputs": [
    {
     "name": "stdout",
     "output_type": "stream",
     "text": [
      "28198.905478211866\n"
     ]
    }
   ],
   "source": [
    "X = df_3_2.drop([\"SalePrice\"], axis=1)\n",
    "y = df_3_2[\"SalePrice\"]\n",
    "\n",
    "rmse_lst=[]\n",
    "\n",
    "for i in range(100):\n",
    "    X_train, X_test, y_train, y_test = train_test_split(X, y, test_size=0.3, random_state=i)\n",
    "    lr = LinearRegression()\n",
    "    lr.fit(X_train,y_train)\n",
    "    predictions = lr.predict(X_test)\n",
    "    rmse_lst.append(np.sqrt (mean_squared_error(y_test, predictions)))\n",
    "\n",
    "rmse = np.mean(rmse_lst)    \n",
    "print(rmse)"
   ]
  },
  {
   "cell_type": "code",
   "execution_count": 43,
   "metadata": {},
   "outputs": [
    {
     "name": "stdout",
     "output_type": "stream",
     "text": [
      "Mean of the SalePrice: 180395.18\n",
      "Root mean square error of the created initial model: 28198.91\n",
      "Percentage 15.63%\n"
     ]
    }
   ],
   "source": [
    "print(\"Mean of the SalePrice: \"+str(round(y.mean(),2)))\n",
    "print(\"Root mean square error of the created initial model: \" + str(round(rmse,2)))\n",
    "print(\"Percentage \" + str(round(rmse/y.mean()*100,2))+\"%\")"
   ]
  },
  {
   "cell_type": "markdown",
   "metadata": {},
   "source": [
    "Error rate has been improved from __19.32%__ to __15.63%__ via feature engineering. \n",
    "\n",
    "## Project is over"
   ]
  }
 ],
 "metadata": {
  "kernelspec": {
   "display_name": "Python 3",
   "language": "python",
   "name": "python3"
  },
  "language_info": {
   "codemirror_mode": {
    "name": "ipython",
    "version": 3
   },
   "file_extension": ".py",
   "mimetype": "text/x-python",
   "name": "python",
   "nbconvert_exporter": "python",
   "pygments_lexer": "ipython3",
   "version": "3.7.1"
  }
 },
 "nbformat": 4,
 "nbformat_minor": 2
}
